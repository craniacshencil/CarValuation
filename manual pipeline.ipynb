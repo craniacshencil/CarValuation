{
 "cells": [
  {
   "cell_type": "code",
   "execution_count": 26,
   "id": "e7fd2c94",
   "metadata": {},
   "outputs": [],
   "source": [
    "import numpy as np\n",
    "import matplotlib.pyplot as plt\n",
    "import seaborn as sns\n",
    "import pandas as pd"
   ]
  },
  {
   "cell_type": "code",
   "execution_count": 27,
   "id": "fc447ef6",
   "metadata": {},
   "outputs": [],
   "source": [
    "from sklearn.model_selection import train_test_split"
   ]
  },
  {
   "cell_type": "code",
   "execution_count": 28,
   "id": "b6a9479c",
   "metadata": {},
   "outputs": [],
   "source": [
    "train = pd.read_csv('train_finale.csv')\n",
    "test = pd.read_csv('test_finale.csv')"
   ]
  },
  {
   "cell_type": "code",
   "execution_count": 29,
   "id": "6356d62f",
   "metadata": {},
   "outputs": [],
   "source": [
    "#Dropping the unnecessary columns\n",
    "train = train.drop(['oem','variant', 'model', 'Height', 'Wheel Base'], axis = 1)#height is incorrectly labelled or recorded\n",
    "test = test.drop(['oem', 'variant', 'model', 'Height', 'Wheel Base'], axis = 1)"
   ]
  },
  {
   "cell_type": "code",
   "execution_count": 30,
   "id": "c75de761",
   "metadata": {},
   "outputs": [
    {
     "data": {
      "text/plain": [
       "0        950000.0\n",
       "1        500000.0\n",
       "2        738000.0\n",
       "3        660000.0\n",
       "4        899999.0\n",
       "          ...    \n",
       "3770     295000.0\n",
       "3771     735859.0\n",
       "3772     245000.0\n",
       "3773    1249999.0\n",
       "3774     200000.0\n",
       "Name: listed_price, Length: 3775, dtype: float64"
      ]
     },
     "execution_count": 30,
     "metadata": {},
     "output_type": "execute_result"
    }
   ],
   "source": [
    "#Creating X_train and y_train\n",
    "X_train = train.drop('listed_price', axis = 1)\n",
    "y_train = train['listed_price']\n",
    "X_test = test.drop('listed_price', axis = 1)\n",
    "y_test = test['listed_price']\n",
    "y_test"
   ]
  },
  {
   "cell_type": "code",
   "execution_count": 31,
   "id": "24a60cbe",
   "metadata": {},
   "outputs": [
    {
     "data": {
      "text/html": [
       "<div>\n",
       "<style scoped>\n",
       "    .dataframe tbody tr th:only-of-type {\n",
       "        vertical-align: middle;\n",
       "    }\n",
       "\n",
       "    .dataframe tbody tr th {\n",
       "        vertical-align: top;\n",
       "    }\n",
       "\n",
       "    .dataframe thead th {\n",
       "        text-align: right;\n",
       "    }\n",
       "</style>\n",
       "<table border=\"1\" class=\"dataframe\">\n",
       "  <thead>\n",
       "    <tr style=\"text-align: right;\">\n",
       "      <th></th>\n",
       "      <th>catcols</th>\n",
       "      <th>Uniques</th>\n",
       "    </tr>\n",
       "  </thead>\n",
       "  <tbody>\n",
       "    <tr>\n",
       "      <th>0</th>\n",
       "      <td>transmission</td>\n",
       "      <td>2</td>\n",
       "    </tr>\n",
       "    <tr>\n",
       "      <th>1</th>\n",
       "      <td>fuel</td>\n",
       "      <td>5</td>\n",
       "    </tr>\n",
       "    <tr>\n",
       "      <th>2</th>\n",
       "      <td>Valve Configuration</td>\n",
       "      <td>5</td>\n",
       "    </tr>\n",
       "    <tr>\n",
       "      <th>3</th>\n",
       "      <td>Drive Type</td>\n",
       "      <td>4</td>\n",
       "    </tr>\n",
       "    <tr>\n",
       "      <th>4</th>\n",
       "      <td>owner_type</td>\n",
       "      <td>6</td>\n",
       "    </tr>\n",
       "    <tr>\n",
       "      <th>5</th>\n",
       "      <td>Fuel Supply System</td>\n",
       "      <td>10</td>\n",
       "    </tr>\n",
       "    <tr>\n",
       "      <th>6</th>\n",
       "      <td>body</td>\n",
       "      <td>11</td>\n",
       "    </tr>\n",
       "    <tr>\n",
       "      <th>7</th>\n",
       "      <td>Gear Box</td>\n",
       "      <td>11</td>\n",
       "    </tr>\n",
       "    <tr>\n",
       "      <th>8</th>\n",
       "      <td>Steering Type</td>\n",
       "      <td>2</td>\n",
       "    </tr>\n",
       "    <tr>\n",
       "      <th>9</th>\n",
       "      <td>Front Brake Type</td>\n",
       "      <td>5</td>\n",
       "    </tr>\n",
       "    <tr>\n",
       "      <th>10</th>\n",
       "      <td>Rear Brake Type</td>\n",
       "      <td>5</td>\n",
       "    </tr>\n",
       "    <tr>\n",
       "      <th>11</th>\n",
       "      <td>Tyre Type</td>\n",
       "      <td>4</td>\n",
       "    </tr>\n",
       "    <tr>\n",
       "      <th>12</th>\n",
       "      <td>exterior_color</td>\n",
       "      <td>12</td>\n",
       "    </tr>\n",
       "  </tbody>\n",
       "</table>\n",
       "</div>"
      ],
      "text/plain": [
       "                catcols  Uniques\n",
       "0          transmission        2\n",
       "1                  fuel        5\n",
       "2   Valve Configuration        5\n",
       "3            Drive Type        4\n",
       "4            owner_type        6\n",
       "5    Fuel Supply System       10\n",
       "6                  body       11\n",
       "7              Gear Box       11\n",
       "8         Steering Type        2\n",
       "9      Front Brake Type        5\n",
       "10      Rear Brake Type        5\n",
       "11            Tyre Type        4\n",
       "12       exterior_color       12"
      ]
     },
     "execution_count": 31,
     "metadata": {},
     "output_type": "execute_result"
    }
   ],
   "source": [
    "catcols = [col for col in X_train if X_train[col].dtype == 'O']\n",
    "catvals = [X_train[col].nunique() for col in catcols]\n",
    "katie = pd.DataFrame({'catcols': catcols, 'Uniques' : catvals})\n",
    "katie"
   ]
  },
  {
   "cell_type": "code",
   "execution_count": 32,
   "id": "f19b6e49",
   "metadata": {},
   "outputs": [],
   "source": [
    "#Adding avg_measure to the dataset\n",
    "X_train['avg_measure'] = (X_train['Length'] + X_train['Width']) / 2\n",
    "X_test['avg_measure'] = (X_test['Length'] + X_test['Width']) / 2"
   ]
  },
  {
   "cell_type": "code",
   "execution_count": 33,
   "id": "a8a66733",
   "metadata": {},
   "outputs": [],
   "source": [
    "#Defining features\n",
    "features = ['top_features',\n",
    " 'comfort_features',\n",
    " 'interior_features',\n",
    " 'exterior_features',\n",
    " 'safety_features']\n",
    "X_test['Features'] = np.sum(X_test[features], axis = 1)\n",
    "X_train['Features'] = np.sum(X_train[features], axis = 1)"
   ]
  },
  {
   "cell_type": "code",
   "execution_count": 34,
   "id": "989d1743",
   "metadata": {},
   "outputs": [],
   "source": [
    "#Valves featur\n",
    "X_train['Valves'] = X_train['No of Cylinder'] * X_train['Valves per Cylinder']\n",
    "X_test['Valves'] = X_test['No of Cylinder'] * X_test['Valves per Cylinder']\n"
   ]
  },
  {
   "cell_type": "code",
   "execution_count": 35,
   "id": "1c25b91f",
   "metadata": {},
   "outputs": [],
   "source": [
    "#Tread Features\n",
    "X_train['Tread'] = (X_train['Front Tread'] + X_train['Rear Tread'])/ 2\n",
    "X_test['Tread'] = (X_test['Front Tread'] + X_test['Rear Tread'])/ 2"
   ]
  },
  {
   "cell_type": "code",
   "execution_count": 36,
   "id": "3c44a550",
   "metadata": {},
   "outputs": [],
   "source": [
    "to_drop = ['top_features', 'No of Cylinder', 'Valves per Cylinder',\n",
    "       'comfort_features', 'interior_features', 'exterior_features',\n",
    "       'safety_features','Length', 'Width', 'Front Tread', 'Rear Tread']"
   ]
  },
  {
   "cell_type": "code",
   "execution_count": 37,
   "id": "f8d349c0",
   "metadata": {},
   "outputs": [],
   "source": [
    "#Dropping the columns\n",
    "X_train = X_train.drop(to_drop, axis = 1)\n",
    "X_test = X_test.drop(to_drop, axis = 1)"
   ]
  },
  {
   "cell_type": "code",
   "execution_count": 38,
   "id": "5000757c",
   "metadata": {},
   "outputs": [],
   "source": [
    "lcat = [col for col in X_train.columns if X_train[col].dtype == 'O']"
   ]
  },
  {
   "cell_type": "code",
   "execution_count": 39,
   "id": "dc731357",
   "metadata": {},
   "outputs": [
    {
     "name": "stderr",
     "output_type": "stream",
     "text": [
      "/home/apsit/nayasaap/lib/python3.11/site-packages/sklearn/preprocessing/_encoders.py:972: FutureWarning: `sparse` was renamed to `sparse_output` in version 1.2 and will be removed in 1.4. `sparse_output` is ignored unless you leave `sparse` to its default value.\n",
      "  warnings.warn(\n"
     ]
    }
   ],
   "source": [
    "from sklearn.preprocessing import OneHotEncoder\n",
    "enc = OneHotEncoder(handle_unknown = 'ignore', sparse = False)\n",
    "tra = pd.DataFrame(enc.fit_transform(X_train[lcat]))\n",
    "tes = pd.DataFrame(enc.transform(X_test[lcat]))"
   ]
  },
  {
   "cell_type": "code",
   "execution_count": 40,
   "id": "080eaf3f",
   "metadata": {},
   "outputs": [],
   "source": [
    "#Setting index\n",
    "tra.index = X_train.index\n",
    "tes.index = X_test.index"
   ]
  },
  {
   "cell_type": "code",
   "execution_count": 41,
   "id": "0e1bfacc",
   "metadata": {},
   "outputs": [],
   "source": [
    "#Dropping the categorical columns\n",
    "X_train = X_train.drop(lcat, axis = 1)\n",
    "X_test = X_test.drop(lcat, axis = 1)"
   ]
  },
  {
   "cell_type": "code",
   "execution_count": 42,
   "id": "6439a7e1",
   "metadata": {},
   "outputs": [],
   "source": [
    "#Combining the columns back again\n",
    "X_train = pd.concat([X_train, tra], axis = 1)\n",
    "X_test = pd.concat([X_test, tes], axis = 1)"
   ]
  },
  {
   "cell_type": "code",
   "execution_count": 43,
   "id": "7c8b5626",
   "metadata": {},
   "outputs": [],
   "source": [
    "X_train.columns = X_train.columns.astype(str)\n",
    "X_test.columns = X_test.columns.astype(str)"
   ]
  },
  {
   "cell_type": "code",
   "execution_count": 44,
   "id": "bd613682",
   "metadata": {},
   "outputs": [],
   "source": [
    "from sklearn.ensemble import RandomForestRegressor\n",
    "from sklearn.metrics import mean_absolute_error\n",
    "rf = RandomForestRegressor()"
   ]
  },
  {
   "cell_type": "code",
   "execution_count": 45,
   "id": "bbf4d428",
   "metadata": {},
   "outputs": [],
   "source": [
    "def mae_percent(y_true, y_preds):\n",
    "    mae = mean_absolute_error(y_true, y_preds)\n",
    "    return mae * 100 / y_true.mean()"
   ]
  },
  {
   "cell_type": "code",
   "execution_count": 46,
   "id": "e1a970f6",
   "metadata": {},
   "outputs": [
    {
     "name": "stdout",
     "output_type": "stream",
     "text": [
      "MAE:  102476.86178278146\n",
      "MAE percent:  12.951591547971544\n",
      "CPU times: user 24.4 s, sys: 2.9 ms, total: 24.4 s\n",
      "Wall time: 24.4 s\n"
     ]
    }
   ],
   "source": [
    "%%time\n",
    "rf.fit(X_train, y_train)\n",
    "preds = rf.predict(X_test)\n",
    "score = mean_absolute_error(y_test, preds)\n",
    "score_percent = score * 100 / y_test.mean()\n",
    "print(\"MAE: \", score)\n",
    "print(\"MAE percent: \", score_percent)"
   ]
  },
  {
   "cell_type": "code",
   "execution_count": 22,
   "id": "37313cbd",
   "metadata": {},
   "outputs": [],
   "source": [
    "X = pd.concat([X_train, X_test], axis = 0, ignore_index = True)\n",
    "y = pd.concat([y_train, y_test], axis = 0, ignore_index = True)"
   ]
  },
  {
   "cell_type": "code",
   "execution_count": 48,
   "id": "20879536",
   "metadata": {},
   "outputs": [
    {
     "name": "stderr",
     "output_type": "stream",
     "text": [
      "\n",
      "KeyboardInterrupt\n",
      "\n"
     ]
    }
   ],
   "source": [
    "#Feature selection\n",
    "from sklearn.feature_selection import RFECV\n",
    "sel = RFECV(estimator = rf, cv = 5, scoring = 'neg_mean_absolute_error', n_jobs = -1)\n",
    "sel.fit_transform(X_train, y_train)\n",
    "sel.transform(X_test)"
   ]
  },
  {
   "cell_type": "code",
   "execution_count": null,
   "id": "377d6dab",
   "metadata": {},
   "outputs": [],
   "source": [
    "X.columns"
   ]
  },
  {
   "cell_type": "code",
   "execution_count": null,
   "id": "774d8396",
   "metadata": {},
   "outputs": [],
   "source": [
    "X_train.head(5)"
   ]
  },
  {
   "cell_type": "code",
   "execution_count": null,
   "id": "01b003e2",
   "metadata": {},
   "outputs": [],
   "source": [
    "cols = ['myear','transmission', 'fuel', 'km', 'Turbo Charger', 'Super Charger', 'owner_type', 'listed_price']"
   ]
  },
  {
   "cell_type": "code",
   "execution_count": 41,
   "id": "2b019835",
   "metadata": {},
   "outputs": [
    {
     "data": {
      "text/plain": [
       "myear                     int64\n",
       "transmission             object\n",
       "fuel                     object\n",
       "km                      float64\n",
       "top_features            float64\n",
       "comfort_features        float64\n",
       "interior_features       float64\n",
       "exterior_features       float64\n",
       "safety_features         float64\n",
       "No of Cylinder          float64\n",
       "Valves per Cylinder     float64\n",
       "Valve Configuration      object\n",
       "Turbo Charger              bool\n",
       "Super Charger              bool\n",
       "Length                  float64\n",
       "Width                   float64\n",
       "Front Tread             float64\n",
       "Rear Tread              float64\n",
       "Kerb Weight             float64\n",
       "Drive Type               object\n",
       "Seats                   float64\n",
       "Top Speed               float64\n",
       "Acceleration            float64\n",
       "Doors                   float64\n",
       "Cargo Volume            float64\n",
       "owner_type               object\n",
       "Fuel Supply System       object\n",
       "Max Power Delivered     float64\n",
       "Max Power At            float64\n",
       "Max Torque Delivered    float64\n",
       "Max Torque At           float64\n",
       "body                     object\n",
       "Gear Box                 object\n",
       "Steering Type            object\n",
       "Front Brake Type         object\n",
       "Rear Brake Type          object\n",
       "Tyre Type                object\n",
       "exterior_color           object\n",
       "listed_price            float64\n",
       "dtype: object"
      ]
     },
     "execution_count": 41,
     "metadata": {},
     "output_type": "execute_result"
    }
   ],
   "source": [
    "from sklearn."
   ]
  },
  {
   "cell_type": "code",
   "execution_count": 67,
   "id": "48409772",
   "metadata": {},
   "outputs": [
    {
     "data": {
      "text/html": [
       "<div>\n",
       "<style scoped>\n",
       "    .dataframe tbody tr th:only-of-type {\n",
       "        vertical-align: middle;\n",
       "    }\n",
       "\n",
       "    .dataframe tbody tr th {\n",
       "        vertical-align: top;\n",
       "    }\n",
       "\n",
       "    .dataframe thead th {\n",
       "        text-align: right;\n",
       "    }\n",
       "</style>\n",
       "<table border=\"1\" class=\"dataframe\">\n",
       "  <thead>\n",
       "    <tr style=\"text-align: right;\">\n",
       "      <th></th>\n",
       "      <th>myear</th>\n",
       "      <th>km</th>\n",
       "      <th>top_features</th>\n",
       "      <th>comfort_features</th>\n",
       "      <th>interior_features</th>\n",
       "      <th>exterior_features</th>\n",
       "      <th>safety_features</th>\n",
       "      <th>No of Cylinder</th>\n",
       "      <th>Valves per Cylinder</th>\n",
       "      <th>Length</th>\n",
       "      <th>...</th>\n",
       "      <th>Seats</th>\n",
       "      <th>Top Speed</th>\n",
       "      <th>Acceleration</th>\n",
       "      <th>Doors</th>\n",
       "      <th>Cargo Volume</th>\n",
       "      <th>Max Power Delivered</th>\n",
       "      <th>Max Power At</th>\n",
       "      <th>Max Torque Delivered</th>\n",
       "      <th>Max Torque At</th>\n",
       "      <th>listed_price</th>\n",
       "    </tr>\n",
       "  </thead>\n",
       "  <tbody>\n",
       "    <tr>\n",
       "      <th>count</th>\n",
       "      <td>33776.000000</td>\n",
       "      <td>3.377600e+04</td>\n",
       "      <td>33776.000000</td>\n",
       "      <td>33776.000000</td>\n",
       "      <td>33776.000000</td>\n",
       "      <td>33776.000000</td>\n",
       "      <td>33776.000000</td>\n",
       "      <td>33776.000000</td>\n",
       "      <td>33776.000000</td>\n",
       "      <td>33776.000000</td>\n",
       "      <td>...</td>\n",
       "      <td>33776.000000</td>\n",
       "      <td>33776.000000</td>\n",
       "      <td>33776.000000</td>\n",
       "      <td>33776.000000</td>\n",
       "      <td>33776.000000</td>\n",
       "      <td>33776.000000</td>\n",
       "      <td>33776.000000</td>\n",
       "      <td>33776.000000</td>\n",
       "      <td>33776.000000</td>\n",
       "      <td>3.377600e+04</td>\n",
       "    </tr>\n",
       "    <tr>\n",
       "      <th>mean</th>\n",
       "      <td>2015.578636</td>\n",
       "      <td>6.222497e+04</td>\n",
       "      <td>8.817383</td>\n",
       "      <td>15.090182</td>\n",
       "      <td>10.070956</td>\n",
       "      <td>10.060648</td>\n",
       "      <td>21.709257</td>\n",
       "      <td>3.816520</td>\n",
       "      <td>3.892942</td>\n",
       "      <td>4112.195622</td>\n",
       "      <td>...</td>\n",
       "      <td>5.235278</td>\n",
       "      <td>172.132739</td>\n",
       "      <td>13.134293</td>\n",
       "      <td>3.997572</td>\n",
       "      <td>355.218984</td>\n",
       "      <td>102.443167</td>\n",
       "      <td>5106.307386</td>\n",
       "      <td>178.422312</td>\n",
       "      <td>3164.192418</td>\n",
       "      <td>7.885685e+05</td>\n",
       "    </tr>\n",
       "    <tr>\n",
       "      <th>std</th>\n",
       "      <td>3.774640</td>\n",
       "      <td>5.498804e+04</td>\n",
       "      <td>0.483514</td>\n",
       "      <td>6.072644</td>\n",
       "      <td>2.345593</td>\n",
       "      <td>4.576099</td>\n",
       "      <td>6.926763</td>\n",
       "      <td>0.529434</td>\n",
       "      <td>0.484248</td>\n",
       "      <td>396.582743</td>\n",
       "      <td>...</td>\n",
       "      <td>0.715694</td>\n",
       "      <td>22.300961</td>\n",
       "      <td>2.746565</td>\n",
       "      <td>0.069640</td>\n",
       "      <td>124.663481</td>\n",
       "      <td>41.611622</td>\n",
       "      <td>1029.032339</td>\n",
       "      <td>105.357034</td>\n",
       "      <td>997.067428</td>\n",
       "      <td>3.130544e+06</td>\n",
       "    </tr>\n",
       "    <tr>\n",
       "      <th>min</th>\n",
       "      <td>1983.000000</td>\n",
       "      <td>1.010000e+02</td>\n",
       "      <td>1.000000</td>\n",
       "      <td>1.000000</td>\n",
       "      <td>1.000000</td>\n",
       "      <td>1.000000</td>\n",
       "      <td>1.000000</td>\n",
       "      <td>1.000000</td>\n",
       "      <td>1.000000</td>\n",
       "      <td>3099.000000</td>\n",
       "      <td>...</td>\n",
       "      <td>0.000000</td>\n",
       "      <td>80.000000</td>\n",
       "      <td>4.100000</td>\n",
       "      <td>2.000000</td>\n",
       "      <td>29.000000</td>\n",
       "      <td>25.400000</td>\n",
       "      <td>1620.000000</td>\n",
       "      <td>4.800000</td>\n",
       "      <td>160.000000</td>\n",
       "      <td>1.196300e+04</td>\n",
       "    </tr>\n",
       "    <tr>\n",
       "      <th>25%</th>\n",
       "      <td>2013.000000</td>\n",
       "      <td>3.175550e+04</td>\n",
       "      <td>9.000000</td>\n",
       "      <td>10.000000</td>\n",
       "      <td>9.000000</td>\n",
       "      <td>6.000000</td>\n",
       "      <td>17.000000</td>\n",
       "      <td>4.000000</td>\n",
       "      <td>4.000000</td>\n",
       "      <td>3795.000000</td>\n",
       "      <td>...</td>\n",
       "      <td>5.000000</td>\n",
       "      <td>157.471212</td>\n",
       "      <td>11.546351</td>\n",
       "      <td>4.000000</td>\n",
       "      <td>255.150511</td>\n",
       "      <td>75.000000</td>\n",
       "      <td>4000.000000</td>\n",
       "      <td>110.000000</td>\n",
       "      <td>2125.000000</td>\n",
       "      <td>3.200000e+05</td>\n",
       "    </tr>\n",
       "    <tr>\n",
       "      <th>50%</th>\n",
       "      <td>2016.000000</td>\n",
       "      <td>5.652050e+04</td>\n",
       "      <td>9.000000</td>\n",
       "      <td>15.000000</td>\n",
       "      <td>10.000000</td>\n",
       "      <td>10.000000</td>\n",
       "      <td>22.000000</td>\n",
       "      <td>4.000000</td>\n",
       "      <td>4.000000</td>\n",
       "      <td>3995.000000</td>\n",
       "      <td>...</td>\n",
       "      <td>5.000000</td>\n",
       "      <td>170.000000</td>\n",
       "      <td>12.900000</td>\n",
       "      <td>4.000000</td>\n",
       "      <td>346.000000</td>\n",
       "      <td>88.500000</td>\n",
       "      <td>5500.000000</td>\n",
       "      <td>146.000000</td>\n",
       "      <td>3300.000000</td>\n",
       "      <td>5.250000e+05</td>\n",
       "    </tr>\n",
       "    <tr>\n",
       "      <th>75%</th>\n",
       "      <td>2018.000000</td>\n",
       "      <td>8.302825e+04</td>\n",
       "      <td>9.000000</td>\n",
       "      <td>19.000000</td>\n",
       "      <td>12.000000</td>\n",
       "      <td>13.000000</td>\n",
       "      <td>27.000000</td>\n",
       "      <td>4.000000</td>\n",
       "      <td>4.000000</td>\n",
       "      <td>4440.000000</td>\n",
       "      <td>...</td>\n",
       "      <td>5.000000</td>\n",
       "      <td>185.000000</td>\n",
       "      <td>14.604886</td>\n",
       "      <td>4.000000</td>\n",
       "      <td>460.000000</td>\n",
       "      <td>118.350000</td>\n",
       "      <td>6000.000000</td>\n",
       "      <td>220.000000</td>\n",
       "      <td>4000.000000</td>\n",
       "      <td>8.537690e+05</td>\n",
       "    </tr>\n",
       "    <tr>\n",
       "      <th>max</th>\n",
       "      <td>2023.000000</td>\n",
       "      <td>6.300000e+06</td>\n",
       "      <td>9.000000</td>\n",
       "      <td>39.000000</td>\n",
       "      <td>19.000000</td>\n",
       "      <td>27.000000</td>\n",
       "      <td>49.000000</td>\n",
       "      <td>16.000000</td>\n",
       "      <td>48.000000</td>\n",
       "      <td>5469.000000</td>\n",
       "      <td>...</td>\n",
       "      <td>13.000000</td>\n",
       "      <td>285.000000</td>\n",
       "      <td>44.040000</td>\n",
       "      <td>4.000000</td>\n",
       "      <td>2055.000000</td>\n",
       "      <td>550.000000</td>\n",
       "      <td>7000.000000</td>\n",
       "      <td>850.000000</td>\n",
       "      <td>21800.000000</td>\n",
       "      <td>5.500006e+08</td>\n",
       "    </tr>\n",
       "  </tbody>\n",
       "</table>\n",
       "<p>8 rows × 24 columns</p>\n",
       "</div>"
      ],
      "text/plain": [
       "              myear            km  top_features  comfort_features  \\\n",
       "count  33776.000000  3.377600e+04  33776.000000      33776.000000   \n",
       "mean    2015.578636  6.222497e+04      8.817383         15.090182   \n",
       "std        3.774640  5.498804e+04      0.483514          6.072644   \n",
       "min     1983.000000  1.010000e+02      1.000000          1.000000   \n",
       "25%     2013.000000  3.175550e+04      9.000000         10.000000   \n",
       "50%     2016.000000  5.652050e+04      9.000000         15.000000   \n",
       "75%     2018.000000  8.302825e+04      9.000000         19.000000   \n",
       "max     2023.000000  6.300000e+06      9.000000         39.000000   \n",
       "\n",
       "       interior_features  exterior_features  safety_features  No of Cylinder  \\\n",
       "count       33776.000000       33776.000000     33776.000000    33776.000000   \n",
       "mean           10.070956          10.060648        21.709257        3.816520   \n",
       "std             2.345593           4.576099         6.926763        0.529434   \n",
       "min             1.000000           1.000000         1.000000        1.000000   \n",
       "25%             9.000000           6.000000        17.000000        4.000000   \n",
       "50%            10.000000          10.000000        22.000000        4.000000   \n",
       "75%            12.000000          13.000000        27.000000        4.000000   \n",
       "max            19.000000          27.000000        49.000000       16.000000   \n",
       "\n",
       "       Valves per Cylinder        Length  ...         Seats     Top Speed  \\\n",
       "count         33776.000000  33776.000000  ...  33776.000000  33776.000000   \n",
       "mean              3.892942   4112.195622  ...      5.235278    172.132739   \n",
       "std               0.484248    396.582743  ...      0.715694     22.300961   \n",
       "min               1.000000   3099.000000  ...      0.000000     80.000000   \n",
       "25%               4.000000   3795.000000  ...      5.000000    157.471212   \n",
       "50%               4.000000   3995.000000  ...      5.000000    170.000000   \n",
       "75%               4.000000   4440.000000  ...      5.000000    185.000000   \n",
       "max              48.000000   5469.000000  ...     13.000000    285.000000   \n",
       "\n",
       "       Acceleration         Doors  Cargo Volume  Max Power Delivered  \\\n",
       "count  33776.000000  33776.000000  33776.000000         33776.000000   \n",
       "mean      13.134293      3.997572    355.218984           102.443167   \n",
       "std        2.746565      0.069640    124.663481            41.611622   \n",
       "min        4.100000      2.000000     29.000000            25.400000   \n",
       "25%       11.546351      4.000000    255.150511            75.000000   \n",
       "50%       12.900000      4.000000    346.000000            88.500000   \n",
       "75%       14.604886      4.000000    460.000000           118.350000   \n",
       "max       44.040000      4.000000   2055.000000           550.000000   \n",
       "\n",
       "       Max Power At  Max Torque Delivered  Max Torque At  listed_price  \n",
       "count  33776.000000          33776.000000   33776.000000  3.377600e+04  \n",
       "mean    5106.307386            178.422312    3164.192418  7.885685e+05  \n",
       "std     1029.032339            105.357034     997.067428  3.130544e+06  \n",
       "min     1620.000000              4.800000     160.000000  1.196300e+04  \n",
       "25%     4000.000000            110.000000    2125.000000  3.200000e+05  \n",
       "50%     5500.000000            146.000000    3300.000000  5.250000e+05  \n",
       "75%     6000.000000            220.000000    4000.000000  8.537690e+05  \n",
       "max     7000.000000            850.000000   21800.000000  5.500006e+08  \n",
       "\n",
       "[8 rows x 24 columns]"
      ]
     },
     "execution_count": 67,
     "metadata": {},
     "output_type": "execute_result"
    }
   ],
   "source": [
    "train.describe()"
   ]
  },
  {
   "cell_type": "code",
   "execution_count": 68,
   "id": "c9d4e686",
   "metadata": {},
   "outputs": [
    {
     "data": {
      "text/plain": [
       "2017    3507\n",
       "2018    3246\n",
       "2014    3113\n",
       "2015    3107\n",
       "2016    3069\n",
       "2019    2657\n",
       "2013    2359\n",
       "2021    2248\n",
       "2020    2080\n",
       "2012    1873\n",
       "2011    1689\n",
       "2010    1467\n",
       "2022    1150\n",
       "2009    1092\n",
       "2008     608\n",
       "2007     177\n",
       "2006     105\n",
       "2005      68\n",
       "2004      48\n",
       "2023      31\n",
       "2003      26\n",
       "2002      21\n",
       "2001      11\n",
       "2000      10\n",
       "1999       4\n",
       "1997       2\n",
       "1996       2\n",
       "1986       1\n",
       "1983       1\n",
       "1990       1\n",
       "1998       1\n",
       "1993       1\n",
       "1994       1\n",
       "Name: myear, dtype: int64"
      ]
     },
     "execution_count": 68,
     "metadata": {},
     "output_type": "execute_result"
    }
   ],
   "source": [
    "train['myear'].value_counts()"
   ]
  },
  {
   "cell_type": "code",
   "execution_count": null,
   "id": "6b1d4661",
   "metadata": {},
   "outputs": [],
   "source": []
  }
 ],
 "metadata": {
  "kernelspec": {
   "display_name": "Python 3 (ipykernel)",
   "language": "python",
   "name": "python3"
  },
  "language_info": {
   "codemirror_mode": {
    "name": "ipython",
    "version": 3
   },
   "file_extension": ".py",
   "mimetype": "text/x-python",
   "name": "python",
   "nbconvert_exporter": "python",
   "pygments_lexer": "ipython3",
   "version": "3.11.4"
  }
 },
 "nbformat": 4,
 "nbformat_minor": 5
}
